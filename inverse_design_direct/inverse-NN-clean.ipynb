{
 "cells": [
  {
   "cell_type": "code",
   "execution_count": 1,
   "metadata": {},
   "outputs": [
    {
     "name": "stderr",
     "output_type": "stream",
     "text": [
      "c:\\Users\\yifen\\anaconda3\\envs\\AIHacks\\lib\\site-packages\\tqdm\\auto.py:22: TqdmWarning: IProgress not found. Please update jupyter and ipywidgets. See https://ipywidgets.readthedocs.io/en/stable/user_install.html\n",
      "  from .autonotebook import tqdm as notebook_tqdm\n"
     ]
    }
   ],
   "source": [
    "import numpy as np\n",
    "import pandas as pd\n",
    "import matplotlib.pyplot as plt\n",
    "\n",
    "from sklearn.preprocessing import StandardScaler\n",
    "from sklearn.model_selection import train_test_split\n",
    "from sklearn.metrics import mean_absolute_error\n",
    "\n",
    "import torch\n",
    "from torch import nn\n",
    "device = torch.device(\"cuda\" if torch.cuda.is_available() else \"cpu\") "
   ]
  },
  {
   "cell_type": "code",
   "execution_count": 2,
   "metadata": {},
   "outputs": [],
   "source": [
    "toy_alloy_data = pd.read_csv(\"../Mercury/data/toydata_clean.csv\")\n",
    "\n",
    "X_col = [f'element {i}' for i in range(1,13)]\n",
    "Y_col = [f'property {i}' for i in range(1,7)]\n",
    "\n",
    "X = toy_alloy_data[X_col].values\n",
    "Y = toy_alloy_data[Y_col].values\n",
    "\n",
    "# scale Y\n",
    "scaler = StandardScaler()\n",
    "Y = scaler.fit_transform(Y)\n",
    "\n",
    "X_train, X_test, Y_train, Y_test = train_test_split(X, Y, test_size=0.1, random_state=42)\n",
    "\n",
    "# move tensors to GPU (or CPU)\n",
    "X_train = torch.tensor(X_train).to(device)\n",
    "Y_train = torch.tensor(Y_train).to(device)\n",
    "X_test = torch.tensor(X_test).to(device)\n",
    "Y_test = torch.tensor(Y_test).to(device)"
   ]
  },
  {
   "cell_type": "code",
   "execution_count": 3,
   "metadata": {},
   "outputs": [
    {
     "data": {
      "text/plain": [
       "Sequential(\n",
       "  (0): Linear(in_features=6, out_features=9, bias=True)\n",
       "  (1): Softmax(dim=1)\n",
       "  (2): Linear(in_features=9, out_features=12, bias=True)\n",
       "  (3): Softmax(dim=1)\n",
       "  (4): Linear(in_features=12, out_features=12, bias=True)\n",
       "  (5): Softmax(dim=1)\n",
       ")"
      ]
     },
     "execution_count": 3,
     "metadata": {},
     "output_type": "execute_result"
    }
   ],
   "source": [
    "model = nn.Sequential(\n",
    "    nn.Linear(6,9),\n",
    "    nn.Softmax(1),\n",
    "    nn.Linear(9,12),\n",
    "    nn.Softmax(1),\n",
    "    nn.Linear(12,12),\n",
    "    nn.Softmax(1)\n",
    ")\n",
    "model.to(device)\n",
    "model.double()"
   ]
  },
  {
   "cell_type": "code",
   "execution_count": 4,
   "metadata": {},
   "outputs": [],
   "source": [
    "# a simple training procedure with MSE loss and Adam optimiser\n",
    "# directly copied from example notebook\n",
    "def train(m, x, y,  max_iter):\n",
    "    criterion = nn.MSELoss()\n",
    "    optimizer = torch.optim.Adam(m.parameters())\n",
    "    loss_hist = []\n",
    "    R2_hist = []\n",
    "    y_bar = torch.mean(y, 0)\n",
    "\n",
    "    for t in range(1, max_iter + 1):\n",
    "        y_pred = m(x)\n",
    "        loss = criterion(y_pred, y)\n",
    "        optimizer.zero_grad()\n",
    "        loss.backward()\n",
    "        optimizer.step()\n",
    "        if t % 100 == 0:\n",
    "            loss_hist.append(loss.detach().cpu())\n",
    "            R2 = 1 - torch.sum((y - y_pred)**2, 0) / torch.sum((y - y_bar)**2, 0)\n",
    "            R2 = torch.mean(R2)\n",
    "            R2_hist.append(R2.detach().cpu())\n",
    "            print(f'epoch: {t}, loss: {float(loss.item()):.4f}, R^2: {float(R2):.4f}')\n",
    "            if len(loss_hist) > 2 and torch.abs((loss_hist[-1]-loss_hist[-2])/loss_hist[-1]) < 1e-4:\n",
    "                break\n",
    "    return m, loss_hist, R2_hist"
   ]
  },
  {
   "cell_type": "code",
   "execution_count": 5,
   "metadata": {},
   "outputs": [
    {
     "name": "stdout",
     "output_type": "stream",
     "text": [
      "epoch: 100, loss: 0.0527, R^2: -3024.1183\n",
      "epoch: 200, loss: 0.0482, R^2: -2666.5505\n",
      "epoch: 300, loss: 0.0421, R^2: -2167.9726\n",
      "epoch: 400, loss: 0.0355, R^2: -1599.5970\n",
      "epoch: 500, loss: 0.0293, R^2: -1107.7096\n",
      "epoch: 600, loss: 0.0237, R^2: -724.6537\n",
      "epoch: 700, loss: 0.0197, R^2: -465.2146\n",
      "epoch: 800, loss: 0.0174, R^2: -312.4040\n",
      "epoch: 900, loss: 0.0162, R^2: -226.8021\n",
      "epoch: 1000, loss: 0.0154, R^2: -177.7258\n",
      "epoch: 1100, loss: 0.0149, R^2: -146.9010\n",
      "epoch: 1200, loss: 0.0146, R^2: -125.3836\n",
      "epoch: 1300, loss: 0.0143, R^2: -109.7657\n",
      "epoch: 1400, loss: 0.0140, R^2: -97.8813\n",
      "epoch: 1500, loss: 0.0138, R^2: -88.2389\n",
      "epoch: 1600, loss: 0.0136, R^2: -80.3540\n",
      "epoch: 1700, loss: 0.0134, R^2: -74.1889\n",
      "epoch: 1800, loss: 0.0131, R^2: -69.9173\n",
      "epoch: 1900, loss: 0.0128, R^2: -67.1093\n",
      "epoch: 2000, loss: 0.0124, R^2: -63.7105\n",
      "epoch: 2100, loss: 0.0120, R^2: -57.9274\n",
      "epoch: 2200, loss: 0.0116, R^2: -51.0793\n",
      "epoch: 2300, loss: 0.0113, R^2: -44.5229\n",
      "epoch: 2400, loss: 0.0110, R^2: -38.9435\n",
      "epoch: 2500, loss: 0.0108, R^2: -34.3303\n",
      "epoch: 2600, loss: 0.0105, R^2: -30.5318\n",
      "epoch: 2700, loss: 0.0103, R^2: -27.4718\n",
      "epoch: 2800, loss: 0.0093, R^2: -27.4110\n",
      "epoch: 2900, loss: 0.0078, R^2: -25.3219\n",
      "epoch: 3000, loss: 0.0070, R^2: -22.0609\n",
      "epoch: 3100, loss: 0.0066, R^2: -19.1900\n",
      "epoch: 3200, loss: 0.0062, R^2: -16.7923\n",
      "epoch: 3300, loss: 0.0060, R^2: -14.7659\n",
      "epoch: 3400, loss: 0.0058, R^2: -13.0505\n",
      "epoch: 3500, loss: 0.0056, R^2: -11.5962\n",
      "epoch: 3600, loss: 0.0054, R^2: -10.3569\n",
      "epoch: 3700, loss: 0.0053, R^2: -9.2898\n",
      "epoch: 3800, loss: 0.0052, R^2: -8.3588\n",
      "epoch: 3900, loss: 0.0051, R^2: -7.5396\n",
      "epoch: 4000, loss: 0.0050, R^2: -6.8173\n",
      "epoch: 4100, loss: 0.0050, R^2: -6.1811\n",
      "epoch: 4200, loss: 0.0049, R^2: -5.6207\n",
      "epoch: 4300, loss: 0.0048, R^2: -5.1264\n",
      "epoch: 4400, loss: 0.0048, R^2: -4.6897\n",
      "epoch: 4500, loss: 0.0047, R^2: -4.3034\n",
      "epoch: 4600, loss: 0.0047, R^2: -3.9617\n",
      "epoch: 4700, loss: 0.0047, R^2: -3.6595\n",
      "epoch: 4800, loss: 0.0046, R^2: -3.3898\n",
      "epoch: 4900, loss: 0.0046, R^2: -3.1427\n",
      "epoch: 5000, loss: 0.0046, R^2: -2.9185\n",
      "epoch: 5100, loss: 0.0045, R^2: -2.7180\n",
      "epoch: 5200, loss: 0.0045, R^2: -2.5389\n",
      "epoch: 5300, loss: 0.0045, R^2: -2.3787\n",
      "epoch: 5400, loss: 0.0045, R^2: -2.2349\n",
      "epoch: 5500, loss: 0.0045, R^2: -2.1056\n",
      "epoch: 5600, loss: 0.0044, R^2: -1.9885\n",
      "epoch: 5700, loss: 0.0044, R^2: -1.8821\n",
      "epoch: 5800, loss: 0.0044, R^2: -1.7894\n",
      "epoch: 5900, loss: 0.0044, R^2: -1.7512\n",
      "epoch: 6000, loss: 0.0043, R^2: -1.6697\n",
      "epoch: 6100, loss: 0.0043, R^2: -1.5815\n",
      "epoch: 6200, loss: 0.0043, R^2: -1.4961\n",
      "epoch: 6300, loss: 0.0042, R^2: -1.4135\n",
      "epoch: 6400, loss: 0.0042, R^2: -1.3340\n",
      "epoch: 6500, loss: 0.0042, R^2: -1.2574\n",
      "epoch: 6600, loss: 0.0041, R^2: -1.1835\n",
      "epoch: 6700, loss: 0.0041, R^2: -1.1121\n",
      "epoch: 6800, loss: 0.0041, R^2: -1.0432\n",
      "epoch: 6900, loss: 0.0041, R^2: -0.9772\n",
      "epoch: 7000, loss: 0.0041, R^2: -0.9144\n",
      "epoch: 7100, loss: 0.0040, R^2: -0.8546\n",
      "epoch: 7200, loss: 0.0040, R^2: -0.7981\n",
      "epoch: 7300, loss: 0.0040, R^2: -0.7449\n",
      "epoch: 7400, loss: 0.0040, R^2: -0.6950\n",
      "epoch: 7500, loss: 0.0040, R^2: -0.6484\n",
      "epoch: 7600, loss: 0.0040, R^2: -0.6052\n",
      "epoch: 7700, loss: 0.0040, R^2: -0.5652\n",
      "epoch: 7800, loss: 0.0039, R^2: -0.5284\n",
      "epoch: 7900, loss: 0.0039, R^2: -0.4949\n",
      "epoch: 8000, loss: 0.0039, R^2: -0.4650\n",
      "epoch: 8100, loss: 0.0039, R^2: -0.4393\n",
      "epoch: 8200, loss: 0.0039, R^2: -0.4173\n",
      "epoch: 8300, loss: 0.0039, R^2: -0.4015\n",
      "epoch: 8400, loss: 0.0039, R^2: -0.3877\n",
      "epoch: 8500, loss: 0.0039, R^2: -0.3748\n",
      "epoch: 8600, loss: 0.0039, R^2: -0.3608\n",
      "epoch: 8700, loss: 0.0039, R^2: -0.3448\n",
      "epoch: 8800, loss: 0.0038, R^2: -0.3265\n",
      "epoch: 8900, loss: 0.0038, R^2: -0.3058\n",
      "epoch: 9000, loss: 0.0038, R^2: -0.2842\n",
      "epoch: 9100, loss: 0.0038, R^2: -0.2645\n",
      "epoch: 9200, loss: 0.0038, R^2: -0.2431\n",
      "epoch: 9300, loss: 0.0038, R^2: -0.2114\n",
      "epoch: 9400, loss: 0.0038, R^2: -0.1766\n",
      "epoch: 9500, loss: 0.0038, R^2: -0.1438\n",
      "epoch: 9600, loss: 0.0038, R^2: -0.1137\n",
      "epoch: 9700, loss: 0.0038, R^2: -0.0879\n",
      "epoch: 9800, loss: 0.0037, R^2: -0.0669\n",
      "epoch: 9900, loss: 0.0037, R^2: -0.0504\n",
      "epoch: 10000, loss: 0.0037, R^2: -0.0284\n",
      "epoch: 10100, loss: 0.0037, R^2: -0.0005\n",
      "epoch: 10200, loss: 0.0037, R^2: 0.0278\n",
      "epoch: 10300, loss: 0.0037, R^2: 0.0538\n",
      "epoch: 10400, loss: 0.0037, R^2: 0.0754\n",
      "epoch: 10500, loss: 0.0037, R^2: 0.0913\n",
      "epoch: 10600, loss: 0.0037, R^2: 0.1019\n",
      "epoch: 10700, loss: 0.0037, R^2: 0.1122\n",
      "epoch: 10800, loss: 0.0037, R^2: 0.1293\n",
      "epoch: 10900, loss: 0.0037, R^2: 0.1484\n",
      "epoch: 11000, loss: 0.0037, R^2: 0.1655\n",
      "epoch: 11100, loss: 0.0037, R^2: 0.1807\n",
      "epoch: 11200, loss: 0.0036, R^2: 0.1944\n",
      "epoch: 11300, loss: 0.0036, R^2: 0.2067\n",
      "epoch: 11400, loss: 0.0036, R^2: 0.2179\n",
      "epoch: 11500, loss: 0.0036, R^2: 0.2280\n",
      "epoch: 11600, loss: 0.0036, R^2: 0.2372\n",
      "epoch: 11700, loss: 0.0036, R^2: 0.2455\n",
      "epoch: 11800, loss: 0.0036, R^2: 0.2528\n",
      "epoch: 11900, loss: 0.0036, R^2: 0.2593\n",
      "epoch: 12000, loss: 0.0036, R^2: 0.2648\n",
      "epoch: 12100, loss: 0.0036, R^2: 0.2698\n",
      "epoch: 12200, loss: 0.0036, R^2: 0.2745\n",
      "epoch: 12300, loss: 0.0036, R^2: 0.2793\n",
      "epoch: 12400, loss: 0.0036, R^2: 0.2841\n",
      "epoch: 12500, loss: 0.0036, R^2: 0.2892\n",
      "epoch: 12600, loss: 0.0036, R^2: 0.2942\n",
      "epoch: 12700, loss: 0.0035, R^2: 0.3028\n",
      "epoch: 12800, loss: 0.0035, R^2: 0.3141\n",
      "epoch: 12900, loss: 0.0035, R^2: 0.3249\n",
      "epoch: 13000, loss: 0.0035, R^2: 0.3340\n",
      "epoch: 13100, loss: 0.0035, R^2: 0.3416\n",
      "epoch: 13200, loss: 0.0035, R^2: 0.3478\n",
      "epoch: 13300, loss: 0.0035, R^2: 0.3531\n",
      "epoch: 13400, loss: 0.0035, R^2: 0.3576\n",
      "epoch: 13500, loss: 0.0035, R^2: 0.3614\n",
      "epoch: 13600, loss: 0.0035, R^2: 0.3647\n",
      "epoch: 13700, loss: 0.0035, R^2: 0.3681\n",
      "epoch: 13800, loss: 0.0035, R^2: 0.3720\n",
      "epoch: 13900, loss: 0.0035, R^2: 0.3761\n",
      "epoch: 14000, loss: 0.0035, R^2: 0.3802\n",
      "epoch: 14100, loss: 0.0035, R^2: 0.3840\n",
      "epoch: 14200, loss: 0.0035, R^2: 0.3873\n",
      "epoch: 14300, loss: 0.0035, R^2: 0.3900\n",
      "epoch: 14400, loss: 0.0035, R^2: 0.3923\n",
      "epoch: 14500, loss: 0.0035, R^2: 0.3949\n",
      "epoch: 14600, loss: 0.0035, R^2: 0.3976\n",
      "epoch: 14700, loss: 0.0034, R^2: 0.4002\n",
      "epoch: 14800, loss: 0.0034, R^2: 0.4026\n",
      "epoch: 14900, loss: 0.0034, R^2: 0.4048\n",
      "epoch: 15000, loss: 0.0034, R^2: 0.4067\n",
      "epoch: 15100, loss: 0.0034, R^2: 0.4084\n",
      "epoch: 15200, loss: 0.0034, R^2: 0.4099\n",
      "epoch: 15300, loss: 0.0034, R^2: 0.4111\n",
      "epoch: 15400, loss: 0.0034, R^2: 0.4121\n",
      "epoch: 15500, loss: 0.0034, R^2: 0.4127\n",
      "epoch: 15600, loss: 0.0034, R^2: 0.4129\n",
      "epoch: 15700, loss: 0.0034, R^2: 0.4126\n",
      "epoch: 15800, loss: 0.0034, R^2: 0.4116\n",
      "epoch: 15900, loss: 0.0034, R^2: 0.4098\n",
      "epoch: 16000, loss: 0.0034, R^2: 0.4069\n",
      "epoch: 16100, loss: 0.0034, R^2: 0.4027\n",
      "epoch: 16200, loss: 0.0034, R^2: 0.3964\n",
      "epoch: 16300, loss: 0.0034, R^2: 0.3874\n",
      "epoch: 16400, loss: 0.0034, R^2: 0.3747\n",
      "epoch: 16500, loss: 0.0034, R^2: 0.3570\n",
      "epoch: 16600, loss: 0.0034, R^2: 0.3334\n",
      "epoch: 16700, loss: 0.0034, R^2: 0.3028\n",
      "epoch: 16800, loss: 0.0034, R^2: 0.2648\n",
      "epoch: 16900, loss: 0.0034, R^2: 0.2202\n",
      "epoch: 17000, loss: 0.0033, R^2: 0.1679\n",
      "epoch: 17100, loss: 0.0033, R^2: 0.1069\n",
      "epoch: 17200, loss: 0.0033, R^2: 0.0338\n",
      "epoch: 17300, loss: 0.0033, R^2: -0.0467\n",
      "epoch: 17400, loss: 0.0033, R^2: -0.1296\n",
      "epoch: 17500, loss: 0.0033, R^2: -0.2104\n",
      "epoch: 17600, loss: 0.0033, R^2: -0.2839\n",
      "epoch: 17700, loss: 0.0033, R^2: -0.3463\n",
      "epoch: 17800, loss: 0.0033, R^2: -0.3970\n",
      "epoch: 17900, loss: 0.0033, R^2: -0.4325\n",
      "epoch: 18000, loss: 0.0033, R^2: -0.4476\n",
      "epoch: 18100, loss: 0.0033, R^2: -0.4319\n",
      "epoch: 18200, loss: 0.0032, R^2: -0.3761\n",
      "epoch: 18300, loss: 0.0032, R^2: -0.3822\n",
      "epoch: 18400, loss: 0.0032, R^2: -0.4300\n",
      "epoch: 18500, loss: 0.0032, R^2: -0.4711\n",
      "epoch: 18600, loss: 0.0032, R^2: -0.4953\n",
      "epoch: 18700, loss: 0.0032, R^2: -0.5061\n",
      "epoch: 18800, loss: 0.0032, R^2: -0.5064\n",
      "epoch: 18900, loss: 0.0032, R^2: -0.4970\n",
      "epoch: 19000, loss: 0.0032, R^2: -0.4791\n",
      "epoch: 19100, loss: 0.0032, R^2: -0.4613\n",
      "epoch: 19200, loss: 0.0032, R^2: -0.4414\n",
      "epoch: 19300, loss: 0.0031, R^2: -0.4235\n",
      "epoch: 19400, loss: 0.0031, R^2: -0.4088\n",
      "epoch: 19500, loss: 0.0031, R^2: -0.3971\n",
      "epoch: 19600, loss: 0.0031, R^2: -0.3857\n",
      "epoch: 19700, loss: 0.0031, R^2: -0.3734\n",
      "epoch: 19800, loss: 0.0031, R^2: -0.3604\n",
      "epoch: 19900, loss: 0.0031, R^2: -0.3450\n",
      "epoch: 20000, loss: 0.0031, R^2: -0.3347\n",
      "epoch: 20100, loss: 0.0031, R^2: -0.3259\n",
      "epoch: 20200, loss: 0.0031, R^2: -0.3207\n",
      "epoch: 20300, loss: 0.0031, R^2: -0.3167\n",
      "epoch: 20400, loss: 0.0031, R^2: -0.3139\n",
      "epoch: 20500, loss: 0.0031, R^2: -0.3122\n",
      "epoch: 20600, loss: 0.0031, R^2: -0.3121\n",
      "epoch: 20700, loss: 0.0031, R^2: -0.3125\n",
      "epoch: 20800, loss: 0.0031, R^2: -0.3133\n",
      "epoch: 20900, loss: 0.0031, R^2: -0.3146\n",
      "epoch: 21000, loss: 0.0031, R^2: -0.3164\n",
      "epoch: 21100, loss: 0.0031, R^2: -0.3186\n",
      "epoch: 21200, loss: 0.0031, R^2: -0.3211\n",
      "epoch: 21300, loss: 0.0031, R^2: -0.3239\n",
      "epoch: 21400, loss: 0.0031, R^2: -0.3268\n",
      "epoch: 21500, loss: 0.0031, R^2: -0.3300\n",
      "epoch: 21600, loss: 0.0031, R^2: -0.3334\n",
      "epoch: 21700, loss: 0.0030, R^2: -0.3368\n",
      "epoch: 21800, loss: 0.0030, R^2: -0.3403\n",
      "epoch: 21900, loss: 0.0030, R^2: -0.3440\n",
      "epoch: 22000, loss: 0.0030, R^2: -0.3474\n",
      "epoch: 22100, loss: 0.0030, R^2: -0.3507\n",
      "epoch: 22200, loss: 0.0030, R^2: -0.3535\n",
      "epoch: 22300, loss: 0.0030, R^2: -0.3529\n",
      "epoch: 22400, loss: 0.0030, R^2: -0.3289\n",
      "epoch: 22500, loss: 0.0030, R^2: 0.0969\n",
      "epoch: 22600, loss: 0.0029, R^2: 0.0224\n",
      "epoch: 22700, loss: 0.0029, R^2: -0.0262\n",
      "epoch: 22800, loss: 0.0029, R^2: -0.0609\n",
      "epoch: 22900, loss: 0.0029, R^2: -0.0885\n",
      "epoch: 23000, loss: 0.0029, R^2: -0.1121\n",
      "epoch: 23100, loss: 0.0029, R^2: -0.1315\n",
      "epoch: 23200, loss: 0.0029, R^2: -0.1487\n",
      "epoch: 23300, loss: 0.0029, R^2: -0.1633\n",
      "epoch: 23400, loss: 0.0029, R^2: -0.1762\n",
      "epoch: 23500, loss: 0.0029, R^2: -0.1899\n",
      "epoch: 23600, loss: 0.0029, R^2: -0.2027\n",
      "epoch: 23700, loss: 0.0029, R^2: -0.2161\n",
      "epoch: 23800, loss: 0.0029, R^2: -0.2302\n",
      "epoch: 23900, loss: 0.0029, R^2: -0.2452\n",
      "epoch: 24000, loss: 0.0029, R^2: -0.2596\n",
      "epoch: 24100, loss: 0.0029, R^2: -0.2754\n",
      "epoch: 24200, loss: 0.0029, R^2: -0.2906\n",
      "epoch: 24300, loss: 0.0029, R^2: -0.3059\n",
      "epoch: 24400, loss: 0.0029, R^2: -0.3213\n",
      "epoch: 24500, loss: 0.0029, R^2: -0.3361\n",
      "epoch: 24600, loss: 0.0029, R^2: -0.3508\n",
      "epoch: 24700, loss: 0.0029, R^2: -0.3659\n",
      "epoch: 24800, loss: 0.0029, R^2: -0.3798\n",
      "epoch: 24900, loss: 0.0029, R^2: -0.3937\n",
      "epoch: 25000, loss: 0.0029, R^2: -0.4078\n",
      "epoch: 25100, loss: 0.0029, R^2: -0.4205\n",
      "epoch: 25200, loss: 0.0029, R^2: -0.4334\n",
      "epoch: 25300, loss: 0.0029, R^2: -0.4457\n",
      "epoch: 25400, loss: 0.0029, R^2: -0.4577\n",
      "epoch: 25500, loss: 0.0029, R^2: -0.4695\n",
      "epoch: 25600, loss: 0.0029, R^2: -0.4808\n",
      "epoch: 25700, loss: 0.0029, R^2: -0.4923\n",
      "epoch: 25800, loss: 0.0029, R^2: -0.5037\n",
      "epoch: 25900, loss: 0.0029, R^2: -0.5154\n",
      "epoch: 26000, loss: 0.0029, R^2: -0.5256\n",
      "epoch: 26100, loss: 0.0029, R^2: -0.5366\n",
      "epoch: 26200, loss: 0.0029, R^2: -0.5473\n",
      "epoch: 26300, loss: 0.0029, R^2: -0.5577\n",
      "epoch: 26400, loss: 0.0029, R^2: -0.5683\n",
      "epoch: 26500, loss: 0.0029, R^2: -0.5789\n",
      "epoch: 26600, loss: 0.0029, R^2: -0.5891\n",
      "epoch: 26700, loss: 0.0029, R^2: -0.5994\n",
      "epoch: 26800, loss: 0.0029, R^2: -0.6099\n",
      "epoch: 26900, loss: 0.0029, R^2: -0.6196\n",
      "epoch: 27000, loss: 0.0029, R^2: -0.6295\n",
      "epoch: 27100, loss: 0.0029, R^2: -0.6395\n",
      "epoch: 27200, loss: 0.0029, R^2: -0.6495\n",
      "epoch: 27300, loss: 0.0029, R^2: -0.6596\n",
      "epoch: 27400, loss: 0.0029, R^2: -0.6697\n",
      "epoch: 27500, loss: 0.0029, R^2: -0.6806\n",
      "epoch: 27600, loss: 0.0029, R^2: -0.6922\n",
      "epoch: 27700, loss: 0.0029, R^2: -0.7041\n",
      "epoch: 27800, loss: 0.0028, R^2: -0.7163\n",
      "epoch: 27900, loss: 0.0028, R^2: -0.7275\n",
      "epoch: 28000, loss: 0.0028, R^2: -0.7394\n",
      "epoch: 28100, loss: 0.0028, R^2: -0.7483\n",
      "epoch: 28200, loss: 0.0028, R^2: -0.7585\n",
      "epoch: 28300, loss: 0.0028, R^2: -0.7685\n",
      "epoch: 28400, loss: 0.0028, R^2: -0.7778\n",
      "epoch: 28500, loss: 0.0028, R^2: -0.7870\n",
      "epoch: 28600, loss: 0.0028, R^2: -0.7965\n",
      "epoch: 28700, loss: 0.0028, R^2: -0.8058\n",
      "epoch: 28800, loss: 0.0028, R^2: -0.8149\n",
      "epoch: 28900, loss: 0.0028, R^2: -0.8241\n",
      "epoch: 29000, loss: 0.0028, R^2: -0.8324\n",
      "epoch: 29100, loss: 0.0028, R^2: -0.8409\n",
      "epoch: 29200, loss: 0.0028, R^2: -0.8493\n",
      "epoch: 29300, loss: 0.0028, R^2: -0.8571\n",
      "epoch: 29400, loss: 0.0028, R^2: -0.8647\n",
      "epoch: 29500, loss: 0.0028, R^2: -0.8720\n",
      "epoch: 29600, loss: 0.0028, R^2: -0.8789\n",
      "epoch: 29700, loss: 0.0028, R^2: -0.8857\n",
      "epoch: 29800, loss: 0.0028, R^2: -0.8917\n",
      "epoch: 29900, loss: 0.0028, R^2: -0.8985\n",
      "epoch: 30000, loss: 0.0028, R^2: -0.9076\n"
     ]
    }
   ],
   "source": [
    "m, loss_hist, R2_hist= train(model, Y_train, X_train, max_iter=30000)"
   ]
  },
  {
   "cell_type": "code",
   "execution_count": 6,
   "metadata": {},
   "outputs": [
    {
     "data": {
      "text/plain": [
       "[<matplotlib.lines.Line2D at 0x1a804fd1d20>]"
      ]
     },
     "execution_count": 6,
     "metadata": {},
     "output_type": "execute_result"
    },
    {
     "data": {
      "image/png": "[encoded data removed]",
      "text/plain": [
       "<Figure size 432x288 with 1 Axes>"
      ]
     },
     "metadata": {
      "needs_background": "light"
     },
     "output_type": "display_data"
    }
   ],
   "source": [
    "plt.plot(loss_hist)"
   ]
  },
  {
   "cell_type": "code",
   "execution_count": 7,
   "metadata": {},
   "outputs": [
    {
     "data": {
      "text/plain": [
       "[<matplotlib.lines.Line2D at 0x1a81422d7e0>]"
      ]
     },
     "execution_count": 7,
     "metadata": {},
     "output_type": "execute_result"
    },
    {
     "data": {
      "image/png": "[encoded data removed]",
      "text/plain": [
       "<Figure size 432x288 with 1 Axes>"
      ]
     },
     "metadata": {
      "needs_background": "light"
     },
     "output_type": "display_data"
    }
   ],
   "source": [
    "plt.plot(R2_hist)"
   ]
  },
  {
   "cell_type": "code",
   "execution_count": 8,
   "metadata": {},
   "outputs": [
    {
     "name": "stdout",
     "output_type": "stream",
     "text": [
      "0.013475355969477248\n"
     ]
    }
   ],
   "source": [
    "with torch.no_grad():\n",
    "    print(mean_absolute_error(model(Y_test).cpu().numpy(), X_test.cpu().numpy()))"
   ]
  },
  {
   "cell_type": "code",
   "execution_count": 9,
   "metadata": {},
   "outputs": [
    {
     "data": {
      "image/png": "[encoded data removed]",
      "text/plain": [
       "<Figure size 864x864 with 12 Axes>"
      ]
     },
     "metadata": {
      "needs_background": "light"
     },
     "output_type": "display_data"
    }
   ],
   "source": [
    "with torch.no_grad():\n",
    "    X_pred = model(Y_test).cpu().numpy()\n",
    "    X_true = X_test.cpu().numpy()\n",
    "\n",
    "fig, axs = plt.subplots(4, 3, figsize=(12,12))\n",
    "for i in range(12):\n",
    "    X_bar = np.mean(X_true[:,i])\n",
    "    R_2 = 1 - np.sum((X_true[:,i] - X_pred[:,i])**2) / np.sum((X_true[:,i] - X_bar)**2)\n",
    "    ax = axs[i // 3, i % 3]\n",
    "    ax.plot(X_true[:, i], X_pred[:, i], '.')\n",
    "    ax.plot(X_true[:, i], X_true[:, i], '-')\n",
    "    ax.set_xlim(0, 1)\n",
    "    ax.set_ylim(0, 1)\n",
    "    ax.set_xlabel('true')\n",
    "    ax.set_ylabel('predicted')\n",
    "    ax.set_title(f'{X_col[i]}, R^2={R_2:.4f}')\n",
    "\n",
    "plt.tight_layout()\n",
    "plt.show()"
   ]
  },
  {
   "cell_type": "code",
   "execution_count": null,
   "metadata": {},
   "outputs": [],
   "source": []
  }
 ],
 "metadata": {
  "interpreter": {
   "hash": "c45e1f4cff16ded6653d5122b243e74746b1533e5e96f730958c4db3332ffa40"
  },
  "kernelspec": {
   "display_name": "Python 3.10.0 ('AIHacks')",
   "language": "python",
   "name": "python3"
  },
  "language_info": {
   "codemirror_mode": {
    "name": "ipython",
    "version": 3
   },
   "file_extension": ".py",
   "mimetype": "text/x-python",
   "name": "python",
   "nbconvert_exporter": "python",
   "pygments_lexer": "ipython3",
   "version": "3.10.0"
  },
  "orig_nbformat": 4
 },
 "nbformat": 4,
 "nbformat_minor": 2
}
