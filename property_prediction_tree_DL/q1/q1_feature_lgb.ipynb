{
 "cells": [
  {
   "cell_type": "markdown",
   "metadata": {},
   "source": [
    "## Feature LGB"
   ]
  },
  {
   "cell_type": "code",
   "execution_count": 1,
   "metadata": {
    "executionInfo": {
     "elapsed": 444,
     "status": "ok",
     "timestamp": 1651716406263,
     "user": {
      "displayName": "lupeng yang",
      "userId": "10562014019783281623"
     },
     "user_tz": -480
    },
    "id": "7o1fdvy42tpv"
   },
   "outputs": [],
   "source": [
    "import numpy as np\n",
    "import pandas as pd\n",
    "from copy import deepcopy\n",
    "import matplotlib.pyplot as plt\n",
    "import seaborn as sns\n",
    "import tqdm\n",
    "import gc\n",
    "import lightgbm as lgb\n",
    "import os\n",
    "import warnings\n",
    "import torch\n",
    "\n",
    "warnings.filterwarnings(\"ignore\")"
   ]
  },
  {
   "cell_type": "code",
   "execution_count": 2,
   "metadata": {
    "executionInfo": {
     "elapsed": 429,
     "status": "ok",
     "timestamp": 1651716456549,
     "user": {
      "displayName": "lupeng yang",
      "userId": "10562014019783281623"
     },
     "user_tz": -480
    },
    "id": "jU1QM4MD0a-_"
   },
   "outputs": [
    {
     "name": "stdout",
     "output_type": "stream",
     "text": [
      "(1372, 145) (588, 145)\n"
     ]
    }
   ],
   "source": [
    "train = pd.read_csv(\"Lynn/p14_train_fe_hsp.csv\")\n",
    "train['istrain'] = 1\n",
    "test = pd.read_csv(\"Lynn/p14_test_fe_hsp.csv\")\n",
    "test['istrain'] = 0\n",
    "df = pd.concat([train, test]).reset_index(drop=True)\n",
    "\n",
    "X_name = df.columns.tolist()[:-7]\n",
    "Y_name = [f'property {i}' for i in range(1,7)]\n",
    "\n",
    "poolx = df[X_name].copy(deep=True)\n",
    "pooly = df[Y_name].copy(deep=True)\n",
    "\n",
    "X = poolx.iloc[df[df['istrain']==1].index, :]\n",
    "Y = pooly.iloc[df[df['istrain']==1].index, :]\n",
    "\n",
    "X_test = poolx.iloc[df[df['istrain']==0].index, :].reset_index(drop=True)\n",
    "Y_test = pooly.iloc[df[df['istrain']==0].index, :].reset_index(drop=True)\n",
    "\n",
    "pred = torch.zeros((X_test.shape[0], 6))\n",
    "print(X.shape, X_test.shape)\n"
   ]
  },
  {
   "cell_type": "code",
   "execution_count": 3,
   "metadata": {},
   "outputs": [
    {
     "data": {
      "text/plain": [
       "((1372, 145), (588, 145))"
      ]
     },
     "execution_count": 3,
     "metadata": {},
     "output_type": "execute_result"
    }
   ],
   "source": [
    "X.shape, X_test.shape"
   ]
  },
  {
   "cell_type": "code",
   "execution_count": 92,
   "metadata": {},
   "outputs": [
    {
     "name": "stdout",
     "output_type": "stream",
     "text": [
      "target: property 6, Fold: 1\n",
      "Training until validation scores don't improve for 20 rounds\n",
      "Did not meet early stopping. Best iteration is:\n",
      "[110]\ttraining's l1: 0.368274\ttraining's l2: 0.256819\tvalid_1's l1: 0.494793\tvalid_1's l2: 0.445679\n",
      "target: property 6, Fold: 2\n",
      "Training until validation scores don't improve for 20 rounds\n",
      "Did not meet early stopping. Best iteration is:\n",
      "[110]\ttraining's l1: 0.373584\ttraining's l2: 0.264347\tvalid_1's l1: 0.476368\tvalid_1's l2: 0.426989\n",
      "target: property 6, Fold: 3\n",
      "Training until validation scores don't improve for 20 rounds\n",
      "Did not meet early stopping. Best iteration is:\n",
      "[110]\ttraining's l1: 0.377509\ttraining's l2: 0.271243\tvalid_1's l1: 0.452231\tvalid_1's l2: 0.384498\n"
     ]
    }
   ],
   "source": [
    "from sklearn.model_selection import KFold\n",
    "from scipy.stats import pearsonr\n",
    "from sklearn.metrics import mean_absolute_error, r2_score\n",
    "\n",
    "tar_fea = Y_name\n",
    "use_fea = X.columns.tolist()\n",
    "\n",
    "best_models = {}\n",
    "for tar in tar_fea:\n",
    "    best_models[tar] = []\n",
    "\n",
    "\n",
    "params = {\n",
    "    'task': 'train',\n",
    "    'boosting_type': 'gbdt',  # 设置提升类型\n",
    "    'objective': 'regression',  # 目标函数\n",
    "    'metric': {'l1', 'l2',},  # 评估函数\n",
    "    'num_leaves': 15,  # 叶子节点数\n",
    "    'learning_rate': 0.04,  # 学习速率\n",
    "    'max_depth': 4,\n",
    "    'feature_fraction': 0.8,  # 建树的特征选择比例\n",
    "    'bagging_fraction': 0.8,  # 建树的样本采样比例\n",
    "    'bagging_freq': 5,  # k 意味着每 k 次迭代执行bagging\n",
    "    'verbose': -1,\n",
    "    'num_boost_round': 110,\n",
    "    'early_stopping_rounds': 20,\n",
    "      # <0 显示致命的, =0 显示错误 (警告), >0 显示信息\n",
    "}\n",
    "\n",
    "imps = []\n",
    "train_results = []\n",
    "val_results = []\n",
    "true_labels = []\n",
    "test_results = []\n",
    "\n",
    "for target in tar_fea:\n",
    "    imp = pd.DataFrame()\n",
    "    imp['feat'] = use_fea\n",
    "    kf = KFold(n_splits=3, random_state=2022, shuffle=True)\n",
    "    oof_real_train = np.zeros(X.shape[0])\n",
    "    oof_train = np.zeros(X.shape[0])\n",
    "    pred = np.zeros(X_test.shape[0])\n",
    "    temp_Y = Y[target]\n",
    "    for now_fold, (trn_idx, val_idx) in enumerate(kf.split(X, temp_Y)):\n",
    "        print(f\"target: {target}, Fold: {now_fold+1}\")\n",
    "        X_train, X_val = X.iloc[trn_idx], X.iloc[val_idx]\n",
    "        y_train, y_val = temp_Y.iloc[trn_idx], temp_Y.iloc[val_idx]\n",
    "    \n",
    "        lgb_train = lgb.Dataset(X_train, label=y_train)\n",
    "        lgb_val = lgb.Dataset(X_val, label=y_val, reference=lgb_train) \n",
    "    \n",
    "        gbm = lgb.train(params, lgb_train,  valid_sets=(lgb_train, lgb_val), \n",
    "                         verbose_eval=200)\n",
    "\n",
    "        oof_train[val_idx] = gbm.predict(X_val)\n",
    "        oof_real_train[trn_idx] += gbm.predict(X_train) / 2\n",
    "        pred += gbm.predict(X_test) / 3\n",
    "        imp[target + '_gain_' + str(now_fold + 1)] = gbm.feature_importance(importance_type='gain')\n",
    "        imp[target + '_split_' + str(now_fold + 1)] = gbm.feature_importance(importance_type='split')\n",
    "        fea = target.replace(' ', '_')\n",
    "        #gbm.save_model(f'final_lgb_models_3fold/{fea}_fold{now_fold+1}_model.txt')\n",
    "        del gbm, lgb_train, lgb_val; gc.collect()\n",
    "        imps.append(imp)\n",
    "    val_results.append(oof_train)\n",
    "    true_labels.append(temp_Y)\n",
    "    test_results.append(pred)\n",
    "    train_results.append(oof_real_train)\n",
    "    break\n",
    "    "
   ]
  },
  {
   "cell_type": "code",
   "execution_count": 11,
   "metadata": {},
   "outputs": [
    {
     "name": "stdout",
     "output_type": "stream",
     "text": [
      "train\n",
      "property 1: mae:0.166, rmse:1.5502, r2:0.2332, pccs:0.557\n",
      "property 2: mae:0.004, rmse:0.0109, r2:0.9998, pccs:0.9999\n",
      "property 3: mae:0.0044, rmse:0.0166, r2:0.9996, pccs:0.9998\n",
      "property 4: mae:0.0042, rmse:0.0091, r2:0.9999, pccs:1.0\n",
      "property 5: mae:0.1725, rmse:1.5196, r2:0.1366, pccs:0.4836\n",
      "property 6: mae:0.2929, rmse:0.4147, r2:0.8165, pccs:0.9107\n",
      "valid\n",
      "property 1: mae:0.1774, rmse:1.544, r2:0.2394, pccs:0.5587\n",
      "property 2: mae:0.0099, rmse:0.0238, r2:0.9993, pccs:0.9996\n",
      "property 3: mae:0.0084, rmse:0.0307, r2:0.9986, pccs:0.9993\n",
      "property 4: mae:0.0103, rmse:0.0226, r2:0.9994, pccs:0.9997\n",
      "property 5: mae:0.1851, rmse:1.5779, r2:0.0691, pccs:0.2913\n",
      "property 6: mae:0.4539, rmse:0.6312, r2:0.5749, pccs:0.7583\n",
      "test\n",
      "property 1: mae:0.0888, rmse:0.173, r2:0.7433, pccs:0.9351\n",
      "property 2: mae:0.0082, rmse:0.0193, r2:0.9996, pccs:0.9998\n",
      "property 3: mae:0.0083, rmse:0.0357, r2:0.9978, pccs:0.9989\n",
      "property 4: mae:0.0081, rmse:0.0171, r2:0.9997, pccs:0.9998\n",
      "property 5: mae:0.0844, rmse:0.4485, r2:0.3125, pccs:0.5936\n",
      "property 6: mae:0.4067, rmse:0.5986, r2:0.5986, pccs:0.7755\n"
     ]
    }
   ],
   "source": [
    "print(\"train\")\n",
    "\n",
    "\n",
    "for i in range(len(train_results)):\n",
    "    train_result = train_results[i]\n",
    "    true_label = true_labels[i]\n",
    "    mae = mean_absolute_error(true_label, train_result)\n",
    "    r2 = r2_score(true_label, train_result)\n",
    "    rmse = np.sqrt(((true_label - train_result) ** 2).mean())\n",
    "    pccs = pearsonr(true_label, train_result)[0]\n",
    "    mae, r2, rmse, pccs = np.around([mae, r2, rmse, pccs], decimals=4)\n",
    "    print(f'property {i+1}: mae:{mae}, rmse:{rmse}, r2:{r2}, pccs:{pccs}')\n",
    "\n",
    "\n",
    "print(\"valid\")\n",
    "\n",
    "for i in range(len(val_results)):\n",
    "    \n",
    "    val_result = val_results[i]\n",
    "    true_label = true_labels[i]\n",
    "    mae = mean_absolute_error(true_label, val_result)\n",
    "    r2 = r2_score(true_label, val_result)\n",
    "    rmse = np.sqrt(((true_label - val_result) ** 2).mean())\n",
    "    pccs = pearsonr(true_label, val_result)[0]\n",
    "    mae, r2, rmse, pccs = np.around([mae, r2, rmse, pccs], decimals=4)\n",
    "    print(f'property {i+1}: mae:{mae}, rmse:{rmse}, r2:{r2}, pccs:{pccs}')\n",
    "\n",
    "print(\"test\")\n",
    "for i in range(len(test_results)):\n",
    "    \n",
    "    test_result = test_results[i]\n",
    "    true_label = Y_test.iloc[:,i]\n",
    "    mae = mean_absolute_error(true_label, test_result)\n",
    "    r2 = r2_score(true_label, test_result)\n",
    "    rmse = np.sqrt(((true_label - test_result) ** 2).mean())\n",
    "    pccs = pearsonr(true_label, test_result)[0]\n",
    "    mae, r2, rmse, pccs = np.around([mae, r2, rmse, pccs], decimals=4)\n",
    "    print(f'property {i+1}: mae:{mae}, rmse:{rmse}, r2:{r2}, pccs:{pccs}')"
   ]
  },
  {
   "cell_type": "code",
   "execution_count": null,
   "metadata": {},
   "outputs": [],
   "source": []
  }
 ],
 "metadata": {
  "colab": {
   "authorship_tag": "ABX9TyO0hOxkLkmdWq/mW6ES/ws6",
   "collapsed_sections": [],
   "name": "DeepVerse_Challenge_1.ipynb",
   "provenance": []
  },
  "interpreter": {
   "hash": "007fce85138c9462f0c1b8a135b4ca467b2530a781393e5d0a3b48caa18f0882"
  },
  "kernelspec": {
   "display_name": "Python 3.7.12 ('uspto')",
   "language": "python",
   "name": "python3"
  },
  "language_info": {
   "codemirror_mode": {
    "name": "ipython",
    "version": 3
   },
   "file_extension": ".py",
   "mimetype": "text/x-python",
   "name": "python",
   "nbconvert_exporter": "python",
   "pygments_lexer": "ipython3",
   "version": "3.7.12"
  }
 },
 "nbformat": 4,
 "nbformat_minor": 1
}
