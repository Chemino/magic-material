{
 "cells": [
  {
   "cell_type": "markdown",
   "metadata": {
    "pycharm": {
     "name": "#%% md\n"
    }
   },
   "source": [
    "# Inverse design with Bayesian Optimization (BO)\n",
    "\n",
    "贝叶斯优化是一种黑盒优化算法，用于求解表达式未知的函数的极值问题。 算法根据一组采样点处的函数值预测出任意点处函数值的概率分布，这通过高斯过程回归（GPR）而实现。 根据GPR的结果构造采集函数，用于衡量每一个点值得探索的程度，求解采集函数的极值从而确定下一个采样点。\n",
    "\n",
    "在本任务中，我们希望通过贝叶斯优化去以迭代的形式采样组分空间，以使得最终获得的组分向量对应的性质向量与给定性质向量尽可能接近。算法中采用的目标函数即给定的性质向量以及使用另一个GP回归模型对采样的组分向量进行预测所得的性质向量的均方差MSE，而贝叶斯优化模型将尝试去最小化这个均方差。"
   ]
  },
  {
   "cell_type": "code",
   "execution_count": 1,
   "metadata": {
    "pycharm": {
     "name": "#%%\n"
    }
   },
   "outputs": [],
   "source": [
    "import numpy as np\n",
    "import pandas as pd\n",
    "import matplotlib.pyplot as plt\n",
    "from tqdm import trange\n",
    "\n",
    "from sklearn.preprocessing import StandardScaler\n",
    "from sklearn.model_selection import train_test_split\n",
    "from sklearn.gaussian_process import GaussianProcessRegressor\n",
    "from sklearn.metrics import mean_squared_error, mean_absolute_error\n",
    "from bayes_opt import BayesianOptimization\n",
    "from bayes_opt import UtilityFunction\n",
    "from scipy.special import softmax # used for composition constraint"
   ]
  },
  {
   "cell_type": "markdown",
   "metadata": {
    "pycharm": {
     "name": "#%% md\n"
    }
   },
   "source": [
    "## Dataset, scale, split & GPR fitting"
   ]
  },
  {
   "cell_type": "code",
   "execution_count": 2,
   "metadata": {
    "pycharm": {
     "name": "#%%\n"
    }
   },
   "outputs": [],
   "source": [
    "toy_alloy_data = pd.read_csv(\"../Mercury/data/toydata_clean.csv\")\n",
    "\n",
    "X_col = [f'element {i}' for i in range(1,13)]\n",
    "Y_col = [f'property {i}' for i in range(1,7)]\n",
    "\n",
    "X = toy_alloy_data[X_col].values\n",
    "Y = toy_alloy_data[Y_col].values\n",
    "\n",
    "# scale Y\n",
    "scaler = StandardScaler()\n",
    "Y = scaler.fit_transform(Y)\n",
    "\n",
    "X_train, X_test, Y_train, Y_test = train_test_split(X, Y, test_size=0.1, random_state=42)"
   ]
  },
  {
   "cell_type": "code",
   "execution_count": 3,
   "metadata": {
    "pycharm": {
     "name": "#%%\n"
    }
   },
   "outputs": [],
   "source": [
    "# Bounded region of parameter space\n",
    "pbounds = {f'element{num:02d}': (0, 1) for num in range(1,13)}"
   ]
  },
  {
   "cell_type": "code",
   "execution_count": 4,
   "metadata": {
    "pycharm": {
     "name": "#%%\n"
    }
   },
   "outputs": [],
   "source": [
    "def dict2array(next_point_dict):\n",
    "    return np.array([[next_point_dict[f'element{num:02d}'] for num in range(1,13)]])"
   ]
  },
  {
   "cell_type": "code",
   "execution_count": 5,
   "metadata": {
    "pycharm": {
     "name": "#%%\n"
    }
   },
   "outputs": [],
   "source": [
    "def inverse_BO(Y_given):\n",
    "\n",
    "    # Use a GPR as the regressor to predict the property given a probing composition\n",
    "    gpr = GaussianProcessRegressor(alpha=1, normalize_y=True)\n",
    "    gpr.fit(X_train, Y_train)\n",
    "\n",
    "    # objective function for BO\n",
    "    def diff_property(next_point_array, Y_given, regressor, scaler=scaler):\n",
    "\n",
    "        \"\"\"\n",
    "        Given a probing composition vector (next_point)\n",
    "        and a given property vector we want to approach (Y_given)\n",
    "\n",
    "        Return the negative MSE as the objective function\n",
    "        \n",
    "        By maximizing this function in BO, the model would be able to find a composition\n",
    "        whose property is close to the given one\n",
    "        \"\"\"\n",
    "\n",
    "        Y_pred = regressor.predict(softmax(next_point_array))\n",
    "        return - mean_squared_error(scaler.inverse_transform(Y_pred), Y_given)\n",
    "\n",
    "    # BO optimizer\n",
    "    optimizer = BayesianOptimization(f=None, pbounds=pbounds)\n",
    "\n",
    "    # register all X-Y pairs in training set:\n",
    "    # for i in range(len(X_train)):\n",
    "\n",
    "    #     optimizer.register(\n",
    "    #         params={f'element{num:02d}':X_train[i][num-1] for num in range(1,13)},\n",
    "    #         target=-mean_squared_error(Y_given, Y_train[i].reshape(1, -1))\n",
    "    #     )\n",
    "\n",
    "    # Expected Improvement acquisition function\n",
    "    utility = UtilityFunction(kind='ei', xi=0.01, kappa=None) # kappa is not needed for EI\n",
    "\n",
    "    max_iter = 500\n",
    "    target_hist = []\n",
    "    steps_no_improvement = 0\n",
    "    for _ in range(max_iter):\n",
    "\n",
    "        # BO model suggest best next point to probe\n",
    "        next_point_dict = optimizer.suggest(utility)\n",
    "        # convert dict to array\n",
    "        next_point_array = dict2array(next_point_dict)\n",
    "\n",
    "        # evalute property difference on next point\n",
    "        target = diff_property(next_point_array, Y_given, gpr)\n",
    "        target_hist.append(target)\n",
    "\n",
    "        # register new points into optimizer\n",
    "        optimizer.register(params=next_point_dict, target=target)\n",
    "\n",
    "        # print(target, softmax(next_point_array))\n",
    "\n",
    "        # early stop (patience)\n",
    "        steps_no_improvement += 1\n",
    "        if target > optimizer.max['target']:\n",
    "            steps_no_improvement = 0\n",
    "        if steps_no_improvement > 50:\n",
    "            break\n",
    "\n",
    "    # print(optimizer.max['target'], dict2array(optimizer.max['params']))\n",
    "\n",
    "    return optimizer.max['target'], dict2array(optimizer.max['params'])"
   ]
  },
  {
   "cell_type": "code",
   "execution_count": 6,
   "metadata": {
    "pycharm": {
     "name": "#%%\n"
    }
   },
   "outputs": [
    {
     "name": "stderr",
     "output_type": "stream",
     "text": [
      "100%|██████████| 196/196 [1:13:52<00:00, 22.61s/it]\n"
     ]
    }
   ],
   "source": [
    "target_list = []\n",
    "X_MAE_list = []\n",
    "for i in trange(len(Y_test)):\n",
    "\n",
    "    Y_given = Y_test[i].reshape(1, -1)\n",
    "    target, X_best = inverse_BO(Y_given)\n",
    "\n",
    "    target_list.append(target)\n",
    "    X_MAE_list.append(mean_absolute_error(X_best, X_test[i].reshape(1, -1)))\n"
   ]
  },
  {
   "cell_type": "code",
   "execution_count": 7,
   "metadata": {
    "pycharm": {
     "name": "#%%\n"
    }
   },
   "outputs": [
    {
     "data": {
      "text/plain": [
       "[<matplotlib.lines.Line2D at 0x246ebe8caf0>]"
      ]
     },
     "execution_count": 7,
     "metadata": {},
     "output_type": "execute_result"
    },
    {
     "data": {
      "image/png": "[encoded data removed]",
      "text/plain": [
       "<Figure size 432x288 with 1 Axes>"
      ]
     },
     "metadata": {
      "needs_background": "light"
     },
     "output_type": "display_data"
    }
   ],
   "source": [
    "plt.plot(target_list)"
   ]
  },
  {
   "cell_type": "code",
   "execution_count": 8,
   "metadata": {
    "pycharm": {
     "name": "#%%\n"
    }
   },
   "outputs": [
    {
     "data": {
      "text/plain": [
       "[<matplotlib.lines.Line2D at 0x246e9620e50>]"
      ]
     },
     "execution_count": 8,
     "metadata": {},
     "output_type": "execute_result"
    },
    {
     "data": {
      "image/png": "[encoded data removed]",
      "text/plain": [
       "<Figure size 432x288 with 1 Axes>"
      ]
     },
     "metadata": {
      "needs_background": "light"
     },
     "output_type": "display_data"
    }
   ],
   "source": [
    "plt.plot(X_MAE_list)"
   ]
  },
  {
   "cell_type": "code",
   "execution_count": 9,
   "metadata": {
    "pycharm": {
     "name": "#%%\n"
    }
   },
   "outputs": [
    {
     "data": {
      "text/plain": [
       "0.30923002399145727"
      ]
     },
     "execution_count": 9,
     "metadata": {},
     "output_type": "execute_result"
    }
   ],
   "source": [
    "np.mean(X_MAE_list)"
   ]
  }
 ],
 "metadata": {
  "interpreter": {
   "hash": "c45e1f4cff16ded6653d5122b243e74746b1533e5e96f730958c4db3332ffa40"
  },
  "kernelspec": {
   "display_name": "Python 3.10.0 ('AIHacks')",
   "language": "python",
   "name": "python3"
  },
  "language_info": {
   "codemirror_mode": {
    "name": "ipython",
    "version": 3
   },
   "file_extension": ".py",
   "mimetype": "text/x-python",
   "name": "python",
   "nbconvert_exporter": "python",
   "pygments_lexer": "ipython3",
   "version": "3.10.0"
  },
  "orig_nbformat": 4
 },
 "nbformat": 4,
 "nbformat_minor": 2
}